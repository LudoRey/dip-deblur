{
 "cells": [
  {
   "cell_type": "code",
   "execution_count": null,
   "metadata": {},
   "outputs": [],
   "source": [
    "import torch\n",
    "import torch.nn as nn\n",
    "import torch.nn.functional as F\n",
    "import matplotlib.pyplot as plt\n",
    "import skimage as sk\n",
    "from unet import *\n",
    "from utils import *"
   ]
  },
  {
   "cell_type": "code",
   "execution_count": null,
   "metadata": {},
   "outputs": [],
   "source": [
    "# Read image and create degraded version\n",
    "\n",
    "im = read_img('data/airplane.tif', as_tensor=True)\n",
    "ker = gaussian_kernel(sigma=1, as_tensor=True)\n",
    "\n",
    "im_blur = blur(im, ker)\n",
    "im_blur_noisy = poisson_noise(im_blur, peak=1e5)\n",
    "\n",
    "fig, axes = plt.subplots(1,3)\n",
    "axes[0].imshow(display(im), cmap='gray')\n",
    "axes[1].imshow(display(im_blur), cmap='gray')\n",
    "axes[2].imshow(display(im_blur_noisy), cmap='gray')\n",
    "plt.show()"
   ]
  },
  {
   "cell_type": "code",
   "execution_count": null,
   "metadata": {},
   "outputs": [],
   "source": [
    "nb_epoch = 100\n",
    "learning_rate = 0.01\n",
    "#input = torch.rand(1,32,128,128)/10\n",
    "input = im_blur_noisy\n",
    "net_params = {\n",
    "    'down_channels' : 128,\n",
    "    'up_channels' : 128,\n",
    "    'skip_channels' : 4,\n",
    "    'depth' : 2\n",
    "}\n",
    "# Create network etc.\n",
    "model = Unet(in_channels=input.shape[1], out_channels=1, **net_params)\n",
    "criterion = nn.MSELoss()\n",
    "optimizer = torch.optim.Adam(model.parameters(), lr=learning_rate)"
   ]
  },
  {
   "cell_type": "code",
   "execution_count": null,
   "metadata": {},
   "outputs": [],
   "source": [
    "# Optimizing loop\n",
    "model.train()\n",
    "for i_epoch in range(nb_epoch):\n",
    "    optimizer.zero_grad()\n",
    "    im_recon = model(input)\n",
    "    loss = criterion(blur(im_recon, ker), im_blur_noisy)\n",
    "    error = criterion(im_recon, im)\n",
    "    loss.backward()\n",
    "    optimizer.step()\n",
    "    if (i_epoch+1) % 10 == 0:\n",
    "        print(' [-] epoch {:}/{:}, loss {:.4f}, error {:.4f}'.format(i_epoch+1, nb_epoch, loss.item(), error))"
   ]
  },
  {
   "cell_type": "code",
   "execution_count": null,
   "metadata": {},
   "outputs": [],
   "source": [
    "\n",
    "fig, axes = plt.subplots(1,3, figsize=(20,30))\n",
    "axes[0].imshow(display(im), cmap='gray')\n",
    "axes[1].imshow(display(im_blur_noisy), cmap='gray')\n",
    "axes[2].imshow(display(im_recon), cmap='gray')\n",
    "plt.show()"
   ]
  },
  {
   "cell_type": "code",
   "execution_count": null,
   "metadata": {},
   "outputs": [],
   "source": [
    "im_recon_blur = F.conv2d(im_recon, ker, padding='same')\n",
    "fig, axes = plt.subplots(1,2, figsize=(10,20))\n",
    "axes[0].imshow(display(im_blur), cmap='gray')\n",
    "axes[1].imshow(display(im_recon_blur), cmap='gray')"
   ]
  }
 ],
 "metadata": {
  "kernelspec": {
   "display_name": "Python 3",
   "language": "python",
   "name": "python3"
  },
  "language_info": {
   "codemirror_mode": {
    "name": "ipython",
    "version": 3
   },
   "file_extension": ".py",
   "mimetype": "text/x-python",
   "name": "python",
   "nbconvert_exporter": "python",
   "pygments_lexer": "ipython3",
   "version": "3.10.7"
  },
  "orig_nbformat": 4,
  "vscode": {
   "interpreter": {
    "hash": "6a3947e1e62811c45abef7ca4d2fbb0c7742a45e0b7a2d2a795fad37a2d5e09e"
   }
  }
 },
 "nbformat": 4,
 "nbformat_minor": 2
}
