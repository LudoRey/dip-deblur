{
  "cells": [
    {
      "cell_type": "code",
      "execution_count": null,
      "metadata": {
        "colab": {
          "base_uri": "https://localhost:8080/"
        },
        "id": "h-Mnzj2UCvre",
        "outputId": "beb5777e-c278-4276-d6a3-9a77a2a5a22c"
      },
      "outputs": [],
      "source": [
        "!rm -r *\n",
        "!git clone https://github.com/LudoRey/dip-deblur/\n",
        "!mv dip-deblur/* ./\n",
        "!rm -r dip-deblur"
      ]
    },
    {
      "cell_type": "code",
      "execution_count": null,
      "metadata": {
        "id": "jB_vkVQKCtna"
      },
      "outputs": [],
      "source": [
        "import torch\n",
        "import torch.nn as nn\n",
        "import torch.nn.functional as F\n",
        "import matplotlib.pyplot as plt\n",
        "import skimage as sk\n",
        "from skimage.metrics import peak_signal_noise_ratio as psnr\n",
        "from unet import *\n",
        "from utils import *\n",
        "\n",
        "device = torch.device(\"cuda:0\" if torch.cuda.is_available() else \"cpu\")"
      ]
    },
    {
      "cell_type": "code",
      "execution_count": null,
      "metadata": {
        "colab": {
          "base_uri": "https://localhost:8080/",
          "height": 293
        },
        "id": "x9pgDjnJCtne",
        "outputId": "8d1c1e26-d5f3-40a7-98cf-c1902826440a"
      },
      "outputs": [],
      "source": [
        "# Read image and create degraded version\n",
        "\n",
        "im = read_img('data/airplane.tif', as_tensor=True).to(device)\n",
        "ker = gaussian_kernel(sigma=1.5, as_tensor=True).to(device)\n",
        "\n",
        "im_blur = blur(im, ker)\n",
        "im_blur_noisy = poisson_noise(im_blur, peak=1e3)\n",
        "\n",
        "#im_blur_noisy = read_img('data/veil128_stretched.tif', as_tensor=True).to(device)\n",
        "#ker = read_img('data/veil128_psf.tif', as_tensor=True).to(device)\n",
        "\n",
        "fig, axes = plt.subplots(1,3, figsize=(10,5))\n",
        "axes[0].imshow(to_numpy(im), cmap='gray')\n",
        "axes[1].imshow(to_numpy(im_blur), cmap='gray')\n",
        "axes[2].imshow(to_numpy(im_blur_noisy), cmap='gray')\n",
        "plt.show()"
      ]
    },
    {
      "cell_type": "code",
      "execution_count": null,
      "metadata": {
        "id": "T8wo4B4DCtnh"
      },
      "outputs": [],
      "source": [
        "nb_epoch = 2000\n",
        "learning_rate = 0.01\n",
        "#input = torch.rand(1,32,128,128)/10\n",
        "input = im_blur_noisy\n",
        "net_params = {\n",
        "    'down_channels' : 128,\n",
        "    'up_channels' : 128,\n",
        "    'skip_channels' : 4,\n",
        "    'depth' : 4\n",
        "}\n",
        "\n",
        "# Create network\n",
        "model = Unet(in_channels=input.shape[1], out_channels=1, **net_params)\n",
        "model = model.to(device)\n",
        "\n",
        "# Create loss function and optimizer\n",
        "#criterion = nn.MSELoss()\n",
        "criterion = CsiszarDiv()\n",
        "optimizer = torch.optim.Adam(model.parameters(), lr=learning_rate)"
      ]
    },
    {
      "cell_type": "code",
      "execution_count": null,
      "metadata": {
        "colab": {
          "base_uri": "https://localhost:8080/",
          "height": 493
        },
        "id": "OlP74TGtCtni",
        "outputId": "52f97f02-8fb0-4936-8ab1-ab241e275bdd"
      },
      "outputs": [],
      "source": [
        "# Optimizing loop\n",
        "model.train()\n",
        "for i_epoch in range(nb_epoch):\n",
        "    optimizer.zero_grad()\n",
        "    im_recon = model(input)\n",
        "    # enforce positivity\n",
        "    im_recon = torch.max(im_recon, torch.tensor([0.001]).to(device))\n",
        "    loss = criterion(blur(im_recon, ker), im_blur_noisy)\n",
        "    loss.backward()\n",
        "    optimizer.step()\n",
        "    if (i_epoch+1) % 100 == 0:\n",
        "        metric = psnr(to_numpy(im), to_numpy(im_recon))\n",
        "        print(' [-] epoch {:}/{:}, loss {:.6f}, psnr {:.5f}'.format(i_epoch+1, nb_epoch, loss.item(), metric))"
      ]
    },
    {
      "cell_type": "code",
      "execution_count": null,
      "metadata": {
        "colab": {
          "base_uri": "https://localhost:8080/",
          "height": 334
        },
        "id": "hz1PciBQCtnk",
        "outputId": "bd5256e5-afd2-4300-8f90-1ba24923d670"
      },
      "outputs": [],
      "source": [
        "\n",
        "fig, axes = plt.subplots(1,3, figsize=(20,30))\n",
        "axes[0].imshow(display(im), cmap='gray')\n",
        "axes[1].imshow(display(im_blur_noisy), cmap='gray')\n",
        "axes[2].imshow(display(im_recon), cmap='gray')\n",
        "plt.show()"
      ]
    },
    {
      "cell_type": "code",
      "execution_count": null,
      "metadata": {
        "id": "_quRqHGNCtnm"
      },
      "outputs": [],
      "source": [
        "im_recon_blur = F.conv2d(im_recon, ker, padding='same')\n",
        "fig, axes = plt.subplots(1,2, figsize=(10,20))\n",
        "axes[0].imshow(display(im_blur), cmap='gray')\n",
        "axes[1].imshow(display(im_recon_blur), cmap='gray')"
      ]
    }
  ],
  "metadata": {
    "accelerator": "GPU",
    "colab": {
      "provenance": []
    },
    "gpuClass": "standard",
    "kernelspec": {
      "display_name": "Python 3",
      "language": "python",
      "name": "python3"
    },
    "language_info": {
      "codemirror_mode": {
        "name": "ipython",
        "version": 3
      },
      "file_extension": ".py",
      "mimetype": "text/x-python",
      "name": "python",
      "nbconvert_exporter": "python",
      "pygments_lexer": "ipython3",
      "version": "3.10.7"
    },
    "orig_nbformat": 4,
    "vscode": {
      "interpreter": {
        "hash": "6a3947e1e62811c45abef7ca4d2fbb0c7742a45e0b7a2d2a795fad37a2d5e09e"
      }
    }
  },
  "nbformat": 4,
  "nbformat_minor": 0
}
