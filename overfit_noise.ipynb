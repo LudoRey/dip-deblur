{
  "cells": [
    {
      "cell_type": "code",
      "execution_count": null,
      "metadata": {
        "colab": {
          "base_uri": "https://localhost:8080/"
        },
        "id": "gfzCcER_jT4O",
        "outputId": "0f2dcb6c-4621-48dd-f0c7-0aa334887af1"
      },
      "outputs": [],
      "source": [
        "!rm -r *\n",
        "!git clone https://github.com/LudoRey/dip-deblur/\n",
        "!mv dip-deblur/* ./\n",
        "!rm -r dip-deblur"
      ]
    },
    {
      "cell_type": "code",
      "execution_count": null,
      "metadata": {
        "id": "rmlJOiWdjT4R"
      },
      "outputs": [],
      "source": [
        "import torch\n",
        "import matplotlib.pyplot as plt\n",
        "from skimage.metrics import peak_signal_noise_ratio as psnr\n",
        "from unet import *\n",
        "from utils import *\n",
        "\n",
        "device = torch.device(\"cuda:0\" if torch.cuda.is_available() else \"cpu\")"
      ]
    },
    {
      "cell_type": "code",
      "execution_count": null,
      "metadata": {
        "colab": {
          "base_uri": "https://localhost:8080/",
          "height": 213
        },
        "id": "HkEe7vaqjT4T",
        "outputId": "00eb5ec7-51cc-4e56-a199-5ca91e5cd1f7"
      },
      "outputs": [],
      "source": [
        "# Read image and create degraded version\n",
        "\n",
        "im = read_img('data/airplane.tif', as_tensor=True).to(device)\n",
        "ker = gaussian_kernel(sigma=1.2, as_tensor=True).to(device)\n",
        "\n",
        "im_blur = blur(im, ker)\n",
        "im_blur_noisy = gaussian_noise(im_blur, sigma=0.1)\n",
        "\n",
        "fig, axes = plt.subplots(1,2, figsize=(5,10))\n",
        "axes[0].imshow(to_numpy(im), cmap='gray')\n",
        "axes[1].imshow(to_numpy(im_blur_noisy), cmap='gray')\n",
        "for ax in axes:\n",
        "    ax.tick_params(axis=u'both', which=u'both',length=0)\n",
        "    ax.set_xticklabels([])\n",
        "    ax.set_yticklabels([])\n",
        "plt.show()"
      ]
    },
    {
      "cell_type": "code",
      "execution_count": null,
      "metadata": {
        "colab": {
          "base_uri": "https://localhost:8080/"
        },
        "id": "BHm88jOcjT4U",
        "outputId": "592cef2f-e0a5-4a7a-b868-0a0f0d7a2b97"
      },
      "outputs": [],
      "source": [
        "nb_epoch = 10\n",
        "learning_rate = 0.01\n",
        "input = (torch.rand(1,32,128,128)/10).to(device)\n",
        "criterion = nn.MSELoss()\n",
        "\n",
        "net_params = {'feature_channels' : 128, 'skip_channels' : 4, 'depth' : 4}\n",
        "\n",
        "psnr_tracker = []\n",
        "loss_tracker = []\n",
        "\n",
        "# Create network\n",
        "model = Unet(in_channels=input.shape[1], out_channels=1, **net_params)\n",
        "model = model.to(device)\n",
        "optimizer = torch.optim.Adam(model.parameters(), lr=learning_rate)\n",
        "# Optimizing loop\n",
        "model.train()\n",
        "for i_epoch in range(nb_epoch):\n",
        "    optimizer.zero_grad()\n",
        "    im_recon = model(input)\n",
        "    loss = criterion(blur(im_recon, ker), im_blur_noisy)\n",
        "    loss.backward()\n",
        "    optimizer.step()\n",
        "    if (i_epoch+1) % 100 == 0:\n",
        "        metric = psnr(to_numpy(im), to_numpy(im_recon))\n",
        "        print(' [-] Run {:} epoch {:}/{:}, loss {:.6f}, psnr {:.5f}'.format(i_run, i_epoch+1, nb_epoch, loss.item(), metric))\n",
        "    psnr_tracker.append(psnr(to_numpy(im), to_numpy(im_recon)))\n",
        "    loss_tracker.append(loss.item())"
      ]
    },
    {
      "cell_type": "code",
      "execution_count": null,
      "metadata": {
        "colab": {
          "base_uri": "https://localhost:8080/",
          "height": 197
        },
        "id": "H38mu3uTkHK3",
        "outputId": "2627e55c-b50b-44bc-cccd-413574870550"
      },
      "outputs": [],
      "source": [
        "fig, ax1 = plt.subplots(1,1, figsize=(5,3))\n",
        "\n",
        "ax1.plot(loss_tracker, color='C0')\n",
        "ax1.set_xlabel('Itérations')\n",
        "ax1.set_ylabel('MSE', color='C0')\n",
        "ax1.tick_params(axis='y', labelcolor='C0', color='C0')\n",
        "ax2 = ax1.twinx()\n",
        "ax2.plot(psnr_tracker, color='C3')\n",
        "ax2.set_ylabel('PSNR', color='C3')\n",
        "ax2.tick_params(axis='y', labelcolor='C3', color='C3')\n",
        "  \n",
        "plt.show()\n",
        "fig.savefig('figs/poisson.png', dpi=300, bbox_inches='tight', transparent=True)"
      ]
    }
  ],
  "metadata": {
    "accelerator": "GPU",
    "colab": {
      "provenance": []
    },
    "gpuClass": "standard",
    "kernelspec": {
      "display_name": "Python 3",
      "name": "python3"
    },
    "language_info": {
      "codemirror_mode": {
        "name": "ipython",
        "version": 3
      },
      "file_extension": ".py",
      "mimetype": "text/x-python",
      "name": "python",
      "nbconvert_exporter": "python",
      "pygments_lexer": "ipython3",
      "version": "3.10.7"
    },
    "orig_nbformat": 4
  },
  "nbformat": 4,
  "nbformat_minor": 0
}
