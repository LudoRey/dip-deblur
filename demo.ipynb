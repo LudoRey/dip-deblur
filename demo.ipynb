{
  "cells": [
    {
      "cell_type": "code",
      "execution_count": null,
      "metadata": {
        "colab": {
          "base_uri": "https://localhost:8080/"
        },
        "id": "h-Mnzj2UCvre",
        "outputId": "1574b256-47b3-4143-9e5a-08a5e01938ae"
      },
      "outputs": [],
      "source": [
        "!rm -r *\n",
        "!git clone https://github.com/LudoRey/dip-deblur/\n",
        "!mv dip-deblur/* ./\n",
        "!rm -r dip-deblur"
      ]
    },
    {
      "cell_type": "code",
      "execution_count": 1,
      "metadata": {
        "id": "jB_vkVQKCtna"
      },
      "outputs": [],
      "source": [
        "import torch\n",
        "import matplotlib.pyplot as plt\n",
        "from skimage.metrics import peak_signal_noise_ratio as psnr\n",
        "from unet import *\n",
        "from utils import *\n",
        "\n",
        "device = torch.device(\"cuda:0\" if torch.cuda.is_available() else \"cpu\")"
      ]
    },
    {
      "cell_type": "code",
      "execution_count": null,
      "metadata": {
        "colab": {
          "base_uri": "https://localhost:8080/",
          "height": 334
        },
        "id": "x9pgDjnJCtne",
        "outputId": "857bb16a-5d1a-4b0c-df78-c435373fa592"
      },
      "outputs": [],
      "source": [
        "# Read image and create degraded version\n",
        "filename = 'airplane'\n",
        "im = read_img('data/'+filename+'.tif', as_tensor=True).to(device)\n",
        "ker = gaussian_kernel(sigma=1.2, as_tensor=True).to(device)\n",
        "\n",
        "im_blur = blur(im, ker)\n",
        "im_blur_noisy = poisson_noise(im_blur, peak=1e4)\n",
        "\n",
        "fig, axes = plt.subplots(1,2, figsize=(5,10))\n",
        "axes[0].imshow(to_numpy(im), cmap='gray')\n",
        "axes[1].imshow(to_numpy(im_blur_noisy), cmap='gray')\n",
        "for ax in axes:\n",
        "    ax.tick_params(axis=u'both', which=u'both',length=0)\n",
        "    ax.set_xticklabels([])\n",
        "    ax.set_yticklabels([])\n",
        "plt.show()"
      ]
    },
    {
      "cell_type": "code",
      "execution_count": null,
      "metadata": {
        "id": "T8wo4B4DCtnh"
      },
      "outputs": [],
      "source": [
        "nb_epoch = 2000\n",
        "learning_rate = 0.01\n",
        "input = (torch.rand(1,32,128,128)/10).to(device)\n",
        "criterion = nn.MSELoss()\n",
        "\n",
        "net_params = {'feature_channels' : 128, 'skip_channels' : 4, 'depth' : 4}\n",
        "\n",
        "# Create network\n",
        "model = Unet(in_channels=input.shape[1], out_channels=1, **net_params)\n",
        "model = model.to(device)\n",
        "optimizer = torch.optim.Adam(model.parameters(), lr=learning_rate)\n",
        "# Optimizing loop\n",
        "model.train()\n",
        "for i_epoch in range(nb_epoch):\n",
        "    optimizer.zero_grad()\n",
        "    im_recon = model(input)\n",
        "    loss = criterion(blur(im_recon, ker), im_blur_noisy)\n",
        "    loss.backward()\n",
        "    optimizer.step()\n",
        "    if (i_epoch+1) % 100 == 0:\n",
        "        metric = psnr(to_numpy(im), to_numpy(im_recon))\n",
        "        print(' [-] epoch {:}/{:}, loss {:.6f}, psnr {:.5f}'.format(i_epoch+1, nb_epoch, loss.item(), metric))\n",
        "metric = psnr(to_numpy(im), to_numpy(im_recon))"
      ]
    },
    {
      "cell_type": "code",
      "execution_count": null,
      "metadata": {
        "colab": {
          "base_uri": "https://localhost:8080/",
          "height": 352
        },
        "id": "hz1PciBQCtnk",
        "outputId": "60968e62-42ea-4c9a-a6f6-82ffaea0b1d1"
      },
      "outputs": [],
      "source": [
        "fig, axes = plt.subplots(1,3, figsize=(5,10))\n",
        "axes[0].imshow(to_numpy(im), cmap='gray')\n",
        "axes[1].imshow(to_numpy(im_blur_noisy), cmap='gray')\n",
        "axes[2].imshow(to_numpy(im_recon), cmap='gray')\n",
        "axes[2].set_xlabel('PSNR {:.2f}'.format(metric))\n",
        "for ax in axes.flatten():\n",
        "  ax.tick_params(axis=u'both', which=u'both',length=0)\n",
        "  ax.set_xticklabels([])\n",
        "  ax.set_yticklabels([])\n",
        "  \n",
        "plt.show()\n",
        "fig.savefig('figs/'+filename+'.png', dpi=300, bbox_inches='tight', transparent=True)"
      ]
    },
    {
      "cell_type": "code",
      "execution_count": null,
      "metadata": {
        "id": "f8paZrDVuAzJ"
      },
      "outputs": [],
      "source": [
        "# For veil nebula unstretched\n",
        "\n",
        "ref = read_img('data/veil128_stretched.tif', as_tensor=False)\n",
        "\n",
        "fig, axes = plt.subplots(1,2, figsize=(10,20))\n",
        "axes[0].imshow(match_hist(to_numpy(im_blur_noisy), ref), vmin=0, vmax=1, cmap='gray')\n",
        "axes[1].imshow(match_hist(to_numpy(im_recon), ref), vmin=0, vmax=1, cmap='gray')"
      ]
    }
  ],
  "metadata": {
    "accelerator": "GPU",
    "colab": {
      "provenance": []
    },
    "gpuClass": "standard",
    "kernelspec": {
      "display_name": "Python 3",
      "language": "python",
      "name": "python3"
    },
    "language_info": {
      "codemirror_mode": {
        "name": "ipython",
        "version": 3
      },
      "file_extension": ".py",
      "mimetype": "text/x-python",
      "name": "python",
      "nbconvert_exporter": "python",
      "pygments_lexer": "ipython3",
      "version": "3.10.7"
    },
    "orig_nbformat": 4,
    "vscode": {
      "interpreter": {
        "hash": "6a3947e1e62811c45abef7ca4d2fbb0c7742a45e0b7a2d2a795fad37a2d5e09e"
      }
    }
  },
  "nbformat": 4,
  "nbformat_minor": 0
}
