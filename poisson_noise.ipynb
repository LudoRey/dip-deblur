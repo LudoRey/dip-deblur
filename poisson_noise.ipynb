{
  "cells": [
    {
      "cell_type": "code",
      "execution_count": null,
      "metadata": {
        "colab": {
          "base_uri": "https://localhost:8080/"
        },
        "id": "gfzCcER_jT4O",
        "outputId": "db6df692-f424-4afe-fe84-8cba0b0c6f5a"
      },
      "outputs": [],
      "source": [
        "!rm -r *\n",
        "!git clone https://github.com/LudoRey/dip-deblur/\n",
        "!mv dip-deblur/* ./\n",
        "!rm -r dip-deblur"
      ]
    },
    {
      "cell_type": "code",
      "execution_count": null,
      "metadata": {
        "id": "rmlJOiWdjT4R"
      },
      "outputs": [],
      "source": [
        "import torch\n",
        "import matplotlib.pyplot as plt\n",
        "from skimage.metrics import peak_signal_noise_ratio as psnr\n",
        "from unet import *\n",
        "from utils import *\n",
        "\n",
        "device = torch.device(\"cuda:0\" if torch.cuda.is_available() else \"cpu\")"
      ]
    },
    {
      "cell_type": "code",
      "execution_count": null,
      "metadata": {
        "colab": {
          "base_uri": "https://localhost:8080/",
          "height": 213
        },
        "id": "HkEe7vaqjT4T",
        "outputId": "5048044d-531b-4b6f-d32a-2539d904f6c7"
      },
      "outputs": [],
      "source": [
        "# Read image and create degraded version\n",
        "\n",
        "im = read_img('data/airplane.tif', as_tensor=True).to(device)\n",
        "ker = gaussian_kernel(sigma=1.2, as_tensor=True).to(device)\n",
        "\n",
        "im_blur = blur(im, ker)\n",
        "peaks = [10**4, 10**3, 10**2]\n",
        "all_im_blur_noisy = [poisson_noise(im_blur, peak=peak) for peak in peaks]\n",
        "\n",
        "fig, axes = plt.subplots(1,3, figsize=(5,10))\n",
        "for i in range(3):\n",
        "    axes[i].imshow(to_numpy(all_im_blur_noisy[i]), cmap='gray')\n",
        "for ax in axes:\n",
        "    ax.tick_params(axis=u'both', which=u'both',length=0)\n",
        "    ax.set_xticklabels([])\n",
        "    ax.set_yticklabels([])\n",
        "plt.show()"
      ]
    },
    {
      "cell_type": "code",
      "execution_count": null,
      "metadata": {
        "colab": {
          "base_uri": "https://localhost:8080/"
        },
        "id": "BHm88jOcjT4U",
        "outputId": "73781632-c584-474b-b7f1-f378092dabfa"
      },
      "outputs": [],
      "source": [
        "nb_epoch = 2000\n",
        "learning_rate = 0.01\n",
        "input = (torch.rand(1,32,128,128)/10).to(device)\n",
        "criterions = [nn.MSELoss(), CsiszarDiv]\n",
        "\n",
        "all_net_params = [{'feature_channels' : 128, 'skip_channels' : 4, 'depth' : 2},\n",
        "                  {'feature_channels' : 128, 'skip_channels' : 4, 'depth' : 4},\n",
        "                  {'feature_channels' : 128, 'skip_channels' : 4, 'depth' : 6}]\n",
        "\n",
        "all_psnr = np.zeros((3,2))\n",
        "all_im_recon = np.zeros((3,2,128,128))\n",
        "\n",
        "for i_run in range(3):\n",
        "    for j_crit in range(2):\n",
        "        im_blur_noisy = all_im_blur_noisy[i_run]\n",
        "        criterion = criterions[j_crit]\n",
        "        # Create network\n",
        "        model = Unet(in_channels=input.shape[1], out_channels=1, **all_net_params[i_run])\n",
        "        model = model.to(device)\n",
        "        optimizer = torch.optim.Adam(model.parameters(), lr=learning_rate)\n",
        "        # Optimizing loop\n",
        "        model.train()\n",
        "        for i_epoch in range(nb_epoch):\n",
        "            optimizer.zero_grad()\n",
        "            im_recon = model(input)\n",
        "            loss = criterion(blur(im_recon, ker), im_blur_noisy)\n",
        "            loss.backward()\n",
        "            optimizer.step()\n",
        "            if (i_epoch+1) % 100 == 0:\n",
        "                metric = psnr(to_numpy(im), to_numpy(im_recon))\n",
        "                print(' [-] Run {:} epoch {:}/{:}, loss {:.6f}, psnr {:.5f}'.format(i_run, i_epoch+1, nb_epoch, loss.item(), metric))\n",
        "        all_psnr[i_run][j_crit] = psnr(to_numpy(im), to_numpy(im_recon))\n",
        "        all_im_recon[i_run][j_crit] = to_numpy(im_recon)"
      ]
    },
    {
      "cell_type": "code",
      "execution_count": null,
      "metadata": {
        "colab": {
          "base_uri": "https://localhost:8080/",
          "height": 197
        },
        "id": "H38mu3uTkHK3",
        "outputId": "e1132802-31bb-4035-d7c6-b57bbf43a96b"
      },
      "outputs": [],
      "source": [
        "fig, axes = plt.subplots(3,3, figsize=(5,10))\n",
        "axes[0][0].set_title('y')\n",
        "axes[0][1].set_title('MSE')\n",
        "axes[0][2].set_title['I-div']\n",
        "for i in range(3):\n",
        "  axes[i][0].imshow(all_im_blur_noisy[i])\n",
        "  axes[i][0].set_ylabel('alpha')\n",
        "  for j in range(2):\n",
        "    axes[i][j+1].imshow(all_im_recon[i][j], cmap='gray')\n",
        "    axes[i][j+1].set_xlabel('PSNR {:.2f}'.format(all_psnr[i][j]))\n",
        "for ax in axes.flatten():\n",
        "  ax.tick_params(axis=u'both', which=u'both',length=0)\n",
        "  ax.set_xticklabels([])\n",
        "  ax.set_yticklabels([])\n",
        "  \n",
        "plt.show()\n",
        "#fig.savefig('net_depth.png', dpi=300, bbox_inches='tight', transparent=True)"
      ]
    }
  ],
  "metadata": {
    "accelerator": "GPU",
    "colab": {
      "provenance": []
    },
    "gpuClass": "standard",
    "kernelspec": {
      "display_name": "Python 3",
      "name": "python3"
    },
    "language_info": {
      "name": "python"
    },
    "orig_nbformat": 4
  },
  "nbformat": 4,
  "nbformat_minor": 0
}
