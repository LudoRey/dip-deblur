{
 "cells": [
  {
   "cell_type": "code",
   "execution_count": null,
   "metadata": {},
   "outputs": [],
   "source": [
    "!rm -r *\n",
    "!git clone https://github.com/LudoRey/dip-deblur/\n",
    "!mv dip-deblur/* ./\n",
    "!rm -r dip-deblur"
   ]
  },
  {
   "cell_type": "code",
   "execution_count": null,
   "metadata": {},
   "outputs": [],
   "source": [
    "import torch\n",
    "import matplotlib.pyplot as plt\n",
    "from skimage.metrics import peak_signal_noise_ratio as psnr\n",
    "from unet import *\n",
    "from utils import *\n",
    "\n",
    "device = torch.device(\"cuda:0\" if torch.cuda.is_available() else \"cpu\")"
   ]
  },
  {
   "cell_type": "code",
   "execution_count": null,
   "metadata": {},
   "outputs": [],
   "source": [
    "# Read image and create degraded version\n",
    "\n",
    "im = read_img('data/airplane.tif', as_tensor=True).to(device)\n",
    "ker = gaussian_kernel(sigma=1.2, as_tensor=True).to(device)\n",
    "\n",
    "im_blur = blur(im, ker)\n",
    "im_blur_noisy = poisson_noise(im_blur, peak=1e4)"
   ]
  },
  {
   "cell_type": "code",
   "execution_count": null,
   "metadata": {},
   "outputs": [],
   "source": [
    "nb_epoch = 2000\n",
    "learning_rate = 0.01\n",
    "input = (torch.rand(1,32,128,128)/10).to(device)\n",
    "criterion = nn.MSELoss()\n",
    "\n",
    "all_net_params = [{'down_channels' : 128, 'up_channels' : 128, 'skip_channels' : 4, 'depth' : 4},\n",
    "                  {'down_channels' : 96, 'up_channels' : 96, 'skip_channels' : 16, 'depth' : 4},\n",
    "                  {'down_channels' : 64, 'up_channels' : 64, 'skip_channels' : 64, 'depth' : 4}]\n",
    "all_psnr = np.zeros(3)\n",
    "\n",
    "for i in range(3):\n",
    "    # Create network\n",
    "    model = Unet(in_channels=input.shape[1], out_channels=1, **all_net_params[i])\n",
    "    model = model.to(device)\n",
    "    optimizer = torch.optim.Adam(model.parameters(), lr=learning_rate)\n",
    "    # Optimizing loop\n",
    "    model.train()\n",
    "    for i_epoch in range(nb_epoch):\n",
    "        optimizer.zero_grad()\n",
    "        im_recon = model(input)\n",
    "        loss = criterion(blur(im_recon, ker), im_blur_noisy)\n",
    "        loss.backward()\n",
    "        optimizer.step()\n",
    "        if (i_epoch+1) % 100 == 0:\n",
    "            metric = psnr(to_numpy(im), to_numpy(im_recon))\n",
    "            print(' [-] epoch {:}/{:}, loss {:.6f}, psnr {:.5f}'.format(i_epoch+1, nb_epoch, loss.item(), metric))\n",
    "    all_psnr[i] = psnr(to_numpy(im), to_numpy(im_recon))"
   ]
  }
 ],
 "metadata": {
  "language_info": {
   "name": "python"
  },
  "orig_nbformat": 4
 },
 "nbformat": 4,
 "nbformat_minor": 2
}
